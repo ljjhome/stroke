{
 "cells": [
  {
   "cell_type": "code",
   "execution_count": 1,
   "metadata": {
    "collapsed": false
   },
   "outputs": [
    {
     "name": "stderr",
     "output_type": "stream",
     "text": [
      "Using TensorFlow backend.\n"
     ]
    }
   ],
   "source": [
    "from xml.dom import minidom\n",
    "\n",
    "#from usrinput import trajTofig\n",
    "import matplotlib.pyplot as plt\n",
    "%matplotlib inline\n",
    "plt.rcParams['figure.figsize'] = (10.0, 10.0) # set default size of plots\n",
    "plt.rcParams['image.interpolation'] = 'nearest'\n",
    "plt.rcParams['image.cmap'] = 'gray'\n",
    "\n",
    "from math import *\n",
    "import numpy as np\n",
    "\n",
    "import cv2\n",
    "import sklearn\n",
    "from sklearn.metrics import confusion_matrix\n",
    "from keras.datasets import mnist\n",
    "from keras.models import Sequential\n",
    "from keras.layers import Dense, Dropout, Activation, Flatten, normalization\n",
    "from keras.layers import Convolution2D, MaxPooling2D\n",
    "from keras.utils import np_utils\n",
    "from keras.callbacks import History \n",
    "from keras.optimizers import SGD,Adam,RMSprop\n",
    "from time import time \n",
    "from keras.regularizers import l2"
   ]
  },
  {
   "cell_type": "code",
   "execution_count": 4,
   "metadata": {
    "collapsed": false
   },
   "outputs": [
    {
     "name": "stdout",
     "output_type": "stream",
     "text": [
      "s01 (pilot)\n"
     ]
    },
    {
     "name": "stderr",
     "output_type": "stream",
     "text": [
      "/home/jj/anaconda2/lib/python2.7/site-packages/ipykernel/__main__.py:12: VisibleDeprecationWarning: using a non-integer number instead of an integer will result in an error in the future\n"
     ]
    },
    {
     "name": "stdout",
     "output_type": "stream",
     "text": [
      "s02\n",
      "s03\n",
      "s04\n",
      "s05\n",
      "s06\n",
      "s07\n",
      "s08\n",
      "s09\n",
      "s10\n",
      "s11\n",
      "(5280, 1, 28, 28)\n",
      "(5280,)\n"
     ]
    }
   ],
   "source": [
    "def trajTofig(mouseSeries):\n",
    "    N,_ = mouseSeries.shape\n",
    "    xmin,ymin = np.floor(np.min(mouseSeries, axis = 0))\n",
    "    xmax,ymax = np.floor(np.max(mouseSeries, axis = 0))\n",
    "    imgWidth = np.int_(np.max([ymax-ymin,xmax-xmin]))\n",
    "    widthtempX = np.floor((imgWidth+20)/2.0-(xmax-xmin)/2.0)\n",
    "    widthtempY = np.floor((imgWidth+20)/2.0-(ymax-ymin)/2.0)\n",
    "    imgtemp = np.ones((imgWidth+20,imgWidth+20))\n",
    "\n",
    "    for i in range(N):\n",
    "        imgtemp[mouseSeries[i,1]-ymin+widthtempY-3:mouseSeries[i,1]-ymin+widthtempY+3,\n",
    "                mouseSeries[i,0]-xmin+widthtempX-3:mouseSeries[i,0]-xmin+widthtempX+3]=0.0\n",
    "    img = cv2.resize(imgtemp,(28,28))\n",
    "    return img\n",
    "\n",
    "def interpoint(points):\n",
    "    N,_ = points.shape\n",
    "    ptout = []\n",
    "    for i in range(N-1):\n",
    "        ptout.append(points[i,:])\n",
    "        for t in range(30):\n",
    "            ptout.append(points[i,:]+(t+1)*(points[i+1,:]-points[i,:])/30.0)\n",
    "    ptout = np.array(ptout)\n",
    "    return ptout\n",
    "\n",
    "users = ['s01 (pilot)','s02','s03','s04','s05','s06','s07','s08','s09','s10','s11']\n",
    "cates = ['caret','check','circle','delete_mark','left_curly_brace','left_sq_bracket',\n",
    "           'pigtail','question_mark','rectangle','right_curly_brace','right_sq_bracket','star','triangle','v',\n",
    "          'x','arrow']\n",
    "teams = [\"%02d\"% n for n in range(1,11)]\n",
    "speeds = ['/fast/','/medium/','/slow/']\n",
    "img = []\n",
    "ydata = []\n",
    "trajtemp =[]\n",
    "for user in users:\n",
    "    print user\n",
    "    for cate in cates:\n",
    "        ydata.append(np.ones((30,))*cates.index(cate))\n",
    "        for speed in speeds:\n",
    "            for team in teams:\n",
    "                filename = './xml_logs/'+user+speed+cate+team+'.xml'\n",
    "                xmldoc = minidom.parse(filename)\n",
    "                itemlist = xmldoc.getElementsByTagName('Point')\n",
    "                pointNum = len(itemlist)\n",
    "                PtSeries = []\n",
    "                for i in range(pointNum):\n",
    "                    PtSeries.append([itemlist[i].attributes['X'].value,itemlist[i].attributes['Y'].value])\n",
    "                ptSeriest = np.int_(np.array(PtSeries))\n",
    "                ptSeries = interpoint(ptSeriest)\n",
    "                trajtemp.append(ptSeriest)\n",
    "                img.append(trajTofig(ptSeries))\n",
    "imgdata = np.array(img).reshape((-1,1,28,28))\n",
    "ydata = np.array(ydata).reshape((-1,))\n",
    "print imgdata.shape\n",
    "print ydata.shape\n",
    "\n",
    "np.save('./onedollardata/imgdata',imgdata)\n",
    "np.save('./onedollardata/label',ydata)\n",
    "np.save('./onedollardata/trajdata',trajtemp)\n",
    "\n",
    "\n",
    "                \n",
    "\n"
   ]
  },
  {
   "cell_type": "code",
   "execution_count": null,
   "metadata": {
    "collapsed": true
   },
   "outputs": [],
   "source": []
  }
 ],
 "metadata": {
  "anaconda-cloud": {},
  "kernelspec": {
   "display_name": "Python [conda root]",
   "language": "python",
   "name": "conda-root-py"
  },
  "language_info": {
   "codemirror_mode": {
    "name": "ipython",
    "version": 2
   },
   "file_extension": ".py",
   "mimetype": "text/x-python",
   "name": "python",
   "nbconvert_exporter": "python",
   "pygments_lexer": "ipython2",
   "version": "2.7.12"
  }
 },
 "nbformat": 4,
 "nbformat_minor": 1
}
