{
 "cells": [
  {
   "cell_type": "code",
   "execution_count": 31,
   "metadata": {
    "collapsed": false,
    "deletable": true,
    "editable": true
   },
   "outputs": [],
   "source": [
    "from math import *\n",
    "import numpy as np\n",
    "import matplotlib.pyplot as plt\n",
    "import cv2\n",
    "from sklearn import linear_model, decomposition, datasets\n",
    "from sklearn.pipeline import Pipeline\n",
    "from sklearn.model_selection import GridSearchCV\n",
    "from matplotlib.ticker import NullFormatter\n",
    "\n",
    "from keras.preprocessing import sequence\n",
    "from keras.models import Sequential\n",
    "from keras.layers import Dense, Dropout, Embedding, LSTM, Bidirectional\n",
    "from keras.datasets import imdb\n",
    "from keras.utils import np_utils\n",
    "from keras.optimizers import RMSprop\n",
    "\n",
    "%matplotlib inline\n",
    "plt.rcParams['figure.figsize'] = (10.0, 10.0) # set default size of plots\n",
    "plt.rcParams['image.interpolation'] = 'nearest'\n",
    "plt.rcParams['image.cmap'] = 'gray'"
   ]
  },
  {
   "cell_type": "code",
   "execution_count": 2,
   "metadata": {
    "collapsed": true,
    "deletable": true,
    "editable": true
   },
   "outputs": [],
   "source": [
    "yone = np.load('./onedollardata/label.npy')\n",
    "trajonet = np.load('./onedollardata/trajdata.npy')\n",
    "ximgt = np.load('./onedollardata/imgdata.npy')"
   ]
  },
  {
   "cell_type": "code",
   "execution_count": 3,
   "metadata": {
    "collapsed": false,
    "deletable": true,
    "editable": true
   },
   "outputs": [
    {
     "name": "stdout",
     "output_type": "stream",
     "text": [
      "(5280,)\n",
      "(32, 2)\n",
      "(5280, 1, 28, 28)\n"
     ]
    }
   ],
   "source": [
    "\n",
    "print yone.shape\n",
    "print trajonet[0].shape\n",
    "print ximgt.shape"
   ]
  },
  {
   "cell_type": "code",
   "execution_count": 9,
   "metadata": {
    "collapsed": false,
    "deletable": true,
    "editable": true
   },
   "outputs": [
    {
     "name": "stdout",
     "output_type": "stream",
     "text": [
      "209\n",
      "(5280, 209, 2)\n"
     ]
    }
   ],
   "source": [
    "maxlen = 0\n",
    "xtraintemp = []\n",
    "for i in range(len(trajonet)):\n",
    "    if maxlen<trajonet[i].shape[0]:\n",
    "        maxlen = trajonet[i].shape[0]\n",
    "print maxlen\n",
    "for i in range(len(trajonet)):\n",
    "    if trajonet[i].shape[0]<209:\n",
    "        tt = np.concatenate((trajonet[i],np.zeros((209-trajonet[i].shape[0],2))),axis = 0)\n",
    "    xtraintemp.append(tt)\n",
    "Xone = np.array(xtraintemp).reshape((-1,maxlen,2))\n",
    "print Xone.shape"
   ]
  },
  {
   "cell_type": "markdown",
   "metadata": {
    "collapsed": true,
    "deletable": true,
    "editable": true
   },
   "source": [
    "### split dataset into train validation and test"
   ]
  },
  {
   "cell_type": "code",
   "execution_count": 22,
   "metadata": {
    "collapsed": false,
    "deletable": true,
    "editable": true
   },
   "outputs": [
    {
     "name": "stdout",
     "output_type": "stream",
     "text": [
      "[1639 4204 3264 ..., 2159 1609  763]\n"
     ]
    }
   ],
   "source": [
    "np.random.seed(100)\n",
    "maskTrain = np.random.choice(5280,2640,replace=False)\n",
    "afterTrain = np.setdiff1d(range(5280),maskTrain)\n",
    "maskValidation = np.random.choice(afterTrain,1320,replace=False)\n",
    "maskTest = np.setdiff1d(afterTrain,maskValidation)\n",
    "print maskTrain"
   ]
  },
  {
   "cell_type": "code",
   "execution_count": 28,
   "metadata": {
    "collapsed": false,
    "deletable": true,
    "editable": true
   },
   "outputs": [
    {
     "name": "stdout",
     "output_type": "stream",
     "text": [
      "(2640, 209, 2) (1320, 209, 2) (1320, 209, 2)\n",
      "(2640, 16) (1320, 16) (1320, 16)\n"
     ]
    }
   ],
   "source": [
    "numClass = 16\n",
    "Xtrain = Xone[maskTrain,:,:]\n",
    "Xvalid = Xone[maskValidation,:,:]\n",
    "Xtest = Xone[maskTest,:,:]\n",
    "Ytrain = np_utils.to_categorical(yone[maskTrain],numClass)\n",
    "Yvalid = np_utils.to_categorical(yone[maskValidation],numClass)\n",
    "Ytest = np_utils.to_categorical(yone[maskTest],numClass)\n",
    "print Xtrain.shape, Xvalid.shape, Xtest.shape\n",
    "print Ytrain.shape, Yvalid.shape, Ytest.shape"
   ]
  },
  {
   "cell_type": "code",
   "execution_count": 34,
   "metadata": {
    "collapsed": false,
    "deletable": true,
    "editable": true
   },
   "outputs": [
    {
     "name": "stdout",
     "output_type": "stream",
     "text": [
      "training..\n",
      "Train on 2640 samples, validate on 1320 samples\n",
      "Epoch 1/20\n",
      "2640/2640 [==============================] - 42s - loss: 2.7746 - acc: 0.0648 - val_loss: 2.7240 - val_acc: 0.0909\n",
      "Epoch 2/20\n",
      "2640/2640 [==============================] - 44s - loss: 2.5866 - acc: 0.1144 - val_loss: 2.3102 - val_acc: 0.1621\n",
      "Epoch 3/20\n",
      "2640/2640 [==============================] - 43s - loss: 2.2117 - acc: 0.2019 - val_loss: 2.5704 - val_acc: 0.1697\n",
      "Epoch 4/20\n",
      "2640/2640 [==============================] - 43s - loss: 2.2497 - acc: 0.2208 - val_loss: 2.0719 - val_acc: 0.2242\n",
      "Epoch 5/20\n",
      "2640/2640 [==============================] - 43s - loss: 2.0007 - acc: 0.2564 - val_loss: 1.8092 - val_acc: 0.2674\n",
      "Epoch 6/20\n",
      "2640/2640 [==============================] - 46s - loss: 1.8397 - acc: 0.2777 - val_loss: 2.0166 - val_acc: 0.2788\n",
      "Epoch 7/20\n",
      "2640/2640 [==============================] - 43s - loss: 2.3114 - acc: 0.2189 - val_loss: 1.9121 - val_acc: 0.2432\n",
      "Epoch 8/20\n",
      "2640/2640 [==============================] - 42s - loss: 1.8435 - acc: 0.2822 - val_loss: 1.6793 - val_acc: 0.3326\n",
      "Epoch 9/20\n",
      "2640/2640 [==============================] - 61s - loss: 1.6540 - acc: 0.3489 - val_loss: 1.6515 - val_acc: 0.3364\n",
      "Epoch 10/20\n",
      "2640/2640 [==============================] - 51s - loss: 1.6788 - acc: 0.3360 - val_loss: 1.5898 - val_acc: 0.3515\n",
      "Epoch 11/20\n",
      "2640/2640 [==============================] - 49s - loss: 1.6890 - acc: 0.3564 - val_loss: 1.7782 - val_acc: 0.3470\n",
      "Epoch 12/20\n",
      "2640/2640 [==============================] - 50s - loss: 1.6927 - acc: 0.3735 - val_loss: 1.7913 - val_acc: 0.3492\n",
      "Epoch 13/20\n",
      "2640/2640 [==============================] - 49s - loss: 1.5310 - acc: 0.4110 - val_loss: 1.4079 - val_acc: 0.4402\n",
      "Epoch 14/20\n",
      "2640/2640 [==============================] - 49s - loss: 1.4832 - acc: 0.4121 - val_loss: 1.3634 - val_acc: 0.4250\n",
      "Epoch 15/20\n",
      "2640/2640 [==============================] - 54s - loss: 1.3437 - acc: 0.4735 - val_loss: 1.2860 - val_acc: 0.4841\n",
      "Epoch 16/20\n",
      "2640/2640 [==============================] - 48s - loss: 1.3037 - acc: 0.4795 - val_loss: 1.4307 - val_acc: 0.4598\n",
      "Epoch 17/20\n",
      "2640/2640 [==============================] - 49s - loss: 1.3793 - acc: 0.4723 - val_loss: 1.5004 - val_acc: 0.4379\n",
      "Epoch 18/20\n",
      "2640/2640 [==============================] - 48s - loss: 1.3265 - acc: 0.4955 - val_loss: 1.1534 - val_acc: 0.5455\n",
      "Epoch 19/20\n",
      "2640/2640 [==============================] - 49s - loss: 1.2179 - acc: 0.5379 - val_loss: 1.3269 - val_acc: 0.5205\n",
      "Epoch 20/20\n",
      "2640/2640 [==============================] - 48s - loss: 1.3440 - acc: 0.5083 - val_loss: 1.2884 - val_acc: 0.4985\n"
     ]
    },
    {
     "data": {
      "text/plain": [
       "<keras.callbacks.History at 0x7f00adce7990>"
      ]
     },
     "execution_count": 34,
     "metadata": {},
     "output_type": "execute_result"
    }
   ],
   "source": [
    "model = Sequential()\n",
    "model.add(LSTM(132, input_shape=(maxlen, 2)))\n",
    "model.add(Dense(numClass,activation='softmax'))\n",
    "\n",
    "model.compile(loss='categorical_crossentropy', optimizer = RMSprop(),metrics=['accuracy'])\n",
    "print \"training..\"\n",
    "model.fit(Xtrain,Ytrain,batch_size = 20,nb_epoch = 20, validation_data=[Xvalid,Yvalid])"
   ]
  }
 ],
 "metadata": {
  "anaconda-cloud": {},
  "kernelspec": {
   "display_name": "Python 2",
   "language": "python",
   "name": "python2"
  },
  "language_info": {
   "codemirror_mode": {
    "name": "ipython",
    "version": 2
   },
   "file_extension": ".py",
   "mimetype": "text/x-python",
   "name": "python",
   "nbconvert_exporter": "python",
   "pygments_lexer": "ipython2",
   "version": "2.7.6"
  }
 },
 "nbformat": 4,
 "nbformat_minor": 1
}
